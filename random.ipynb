{
 "cells": [
  {
   "cell_type": "code",
   "execution_count": 11,
   "metadata": {},
   "outputs": [],
   "source": [
    "import os\n",
    "import tempfile\n",
    "import torch\n",
    "from pathlib import Path\n",
    "from csv import writer\n",
    "from torch.utils.data import DataLoader\n",
    "from tqdm import trange, tqdm\n",
    "\n",
    "import pandas as pd\n",
    "import numpy as np\n",
    "import matplotlib.pyplot as plt\n",
    "\n"
   ]
  },
  {
   "cell_type": "code",
   "execution_count": 12,
   "metadata": {},
   "outputs": [],
   "source": [
    "columns = ['timeSec1970', 'timeMs', 'appId', 'ipAddrClient', 'ipAddrServer',\n",
    "           'portClient', 'portServer', 'protocol', 'ppiLen', 'ppi-pdt',\n",
    "           'ppi-pd', 'ppi-ps', 'ppi-paux']\n",
    "csv_path = Path('/home/anatbr/dataset/Allot/ver02 - Location 01 - 2024.09.06-09.csv G Z')\n",
    "n_rows_per_ds = 1e4"
   ]
  },
  {
   "cell_type": "markdown",
   "metadata": {},
   "source": [
    "# get CSVs"
   ]
  },
  {
   "cell_type": "code",
   "execution_count": 22,
   "metadata": {},
   "outputs": [
    {
     "name": "stderr",
     "output_type": "stream",
     "text": [
      "  0%|          | 0/200 [00:00<?, ?it/s]\n"
     ]
    }
   ],
   "source": [
    "ranges = []\n",
    "for i in trange(200):\n",
    "    df = pd.read_csv(csv_path, nrows=n_rows_per_ds, skiprows=int(n_rows_per_ds * (i + 1)))\n",
    "    df.columns = columns\n",
    "    df['absoluteTime'] = pd.to_datetime(df['timeSec1970'], unit='s')\n",
    "    break\n",
    "    assert df.absoluteTime.is_monotonic_increasing\n",
    "    df.to_csv(f'data/allot_chunks_csvs/chunk_{i:03d}.csv', index=False)\n",
    "    # print(df.absoluteTime.min(), df.absoluteTime.max())\n",
    "    ranges.append((df.absoluteTime.min(), df.absoluteTime.max()))\n",
    "    "
   ]
  },
  {
   "cell_type": "code",
   "execution_count": null,
   "metadata": {},
   "outputs": [],
   "source": [
    "df['ppi-pdt'] = df['ppi-pdt'].apply(lambda x: list(map(int, re.findall(r'\\d+', x))))\n",
    "df['ppi-pd'] = df['ppi-pd'].apply(lambda x: list(map(int, re.findall(r'\\d+', x))))\n",
    "df['ppi-ps'] = df['ppi-ps'].apply(lambda x: list(map(int, re.findall(r'\\d+', x))))\n",
    "df['ppi-paux'] = df['ppi-paux'].apply(lambda x: list(map(int, re.findall(r'\\d+', x))))"
   ]
  },
  {
   "cell_type": "code",
   "execution_count": null,
   "metadata": {},
   "outputs": [
    {
     "data": {
      "text/html": [
       "<div>\n",
       "<style scoped>\n",
       "    .dataframe tbody tr th:only-of-type {\n",
       "        vertical-align: middle;\n",
       "    }\n",
       "\n",
       "    .dataframe tbody tr th {\n",
       "        vertical-align: top;\n",
       "    }\n",
       "\n",
       "    .dataframe thead th {\n",
       "        text-align: right;\n",
       "    }\n",
       "</style>\n",
       "<table border=\"1\" class=\"dataframe\">\n",
       "  <thead>\n",
       "    <tr style=\"text-align: right;\">\n",
       "      <th></th>\n",
       "      <th>timeSec1970</th>\n",
       "      <th>timeMs</th>\n",
       "      <th>appId</th>\n",
       "      <th>ipAddrClient</th>\n",
       "      <th>ipAddrServer</th>\n",
       "      <th>portClient</th>\n",
       "      <th>portServer</th>\n",
       "      <th>protocol</th>\n",
       "      <th>ppiLen</th>\n",
       "      <th>ppi-pdt</th>\n",
       "      <th>ppi-pd</th>\n",
       "      <th>ppi-ps</th>\n",
       "      <th>ppi-paux</th>\n",
       "      <th>absoluteTime</th>\n",
       "    </tr>\n",
       "  </thead>\n",
       "  <tbody>\n",
       "    <tr>\n",
       "      <th>0</th>\n",
       "      <td>1725548380</td>\n",
       "      <td>272</td>\n",
       "      <td>1448</td>\n",
       "      <td>230.100.159.96</td>\n",
       "      <td>222.218.202.137</td>\n",
       "      <td>42931</td>\n",
       "      <td>443</td>\n",
       "      <td>17</td>\n",
       "      <td>10</td>\n",
       "      <td>[0, 3, 4, 4, 33, 36, 38, 38, 58, 63]</td>\n",
       "      <td>[0 1 1 1 0 0 1 1 0 1]</td>\n",
       "      <td>[1250 1250 1250  450 1250  163  518  121   31 ...</td>\n",
       "      <td>[207 206 234 234 199 234  71  65  70  69]</td>\n",
       "      <td>2024-09-05 14:59:40</td>\n",
       "    </tr>\n",
       "  </tbody>\n",
       "</table>\n",
       "</div>"
      ],
      "text/plain": [
       "   timeSec1970  timeMs  appId    ipAddrClient     ipAddrServer  portClient  \\\n",
       "0   1725548380     272   1448  230.100.159.96  222.218.202.137       42931   \n",
       "\n",
       "   portServer  protocol  ppiLen                               ppi-pdt  \\\n",
       "0         443        17      10  [0, 3, 4, 4, 33, 36, 38, 38, 58, 63]   \n",
       "\n",
       "                  ppi-pd                                             ppi-ps  \\\n",
       "0  [0 1 1 1 0 0 1 1 0 1]  [1250 1250 1250  450 1250  163  518  121   31 ...   \n",
       "\n",
       "                                    ppi-paux        absoluteTime  \n",
       "0  [207 206 234 234 199 234  71  65  70  69] 2024-09-05 14:59:40  "
      ]
     },
     "execution_count": 30,
     "metadata": {},
     "output_type": "execute_result"
    }
   ],
   "source": [
    "ppi-pdt\tppi-pd\tppi-ps\tppi-paux"
   ]
  },
  {
   "cell_type": "code",
   "execution_count": 1,
   "metadata": {},
   "outputs": [],
   "source": [
    "from data_utils.csv_dataloader import create_csv_flowpic_loader\n",
    "from tqdm import tqdm"
   ]
  },
  {
   "cell_type": "code",
   "execution_count": null,
   "metadata": {},
   "outputs": [],
   "source": [
    "# Ensure the path is resolved correctly\n",
    "import os\n",
    "chunk_path = os.path.join('data', 'allot_chunks_csvs', 'chunk_000.csv')\n",
    "loader = create_csv_flowpic_loader([chunk_path], batch_size=1, num_workers=0, shuffle=False, resolution=64)"
   ]
  },
  {
   "cell_type": "code",
   "execution_count": null,
   "metadata": {},
   "outputs": [
    {
     "name": "stderr",
     "output_type": "stream",
     "text": [
      "  0%|          | 0/10000 [00:00<?, ?it/s]\n"
     ]
    }
   ],
   "source": [
    "for sessions, labels, in tqdm(loader):\n",
    "    break"
   ]
  },
  {
   "cell_type": "code",
   "execution_count": null,
   "metadata": {},
   "outputs": [
    {
     "data": {
      "text/plain": [
       "tensor(10.)"
      ]
     },
     "execution_count": 4,
     "metadata": {},
     "output_type": "execute_result"
    }
   ],
   "source": [
    "sessions[0].sum()"
   ]
  },
  {
   "cell_type": "code",
   "execution_count": null,
   "metadata": {},
   "outputs": [
    {
     "data": {
      "text/plain": [
       "([0, 3, 4, 4, 33, 36, 38, 38, 58, 63],\n",
       " [1250, 1250, 1250, 450, 1250, 163, 518, 121, 31, 24])"
      ]
     },
     "execution_count": 5,
     "metadata": {},
     "output_type": "execute_result"
    }
   ],
   "source": [
    "loader.dataset.sessions[0]"
   ]
  },
  {
   "cell_type": "code",
   "execution_count": null,
   "metadata": {},
   "outputs": [
    {
     "data": {
      "text/plain": [
       "torch.Size([1, 1, 1500, 1500])"
      ]
     },
     "execution_count": 9,
     "metadata": {},
     "output_type": "execute_result"
    }
   ],
   "source": [
    "sessions.shape"
   ]
  },
  {
   "cell_type": "code",
   "execution_count": null,
   "metadata": {},
   "outputs": [
    {
     "data": {
      "text/plain": [
       "<matplotlib.collections.QuadMesh at 0x7e3702024070>"
      ]
     },
     "execution_count": 10,
     "metadata": {},
     "output_type": "execute_result"
    },
    {
     "data": {
      "image/png": "[encoded data removed]",
      "text/plain": [
       "<Figure size 640x480 with 1 Axes>"
      ]
     },
     "metadata": {},
     "output_type": "display_data"
    }
   ],
   "source": [
    "import matplotlib.pyplot as plt\n",
    "plt.pcolormesh(sessions[0, 0].numpy(), cmap='viridis')"
   ]
  },
  {
   "cell_type": "code",
   "execution_count": null,
   "metadata": {},
   "outputs": [],
   "source": []
  }
 ],
 "metadata": {
  "kernelspec": {
   "display_name": "ml2",
   "language": "python",
   "name": "python3"
  },
  "language_info": {
   "codemirror_mode": {
    "name": "ipython",
    "version": 3
   },
   "file_extension": ".py",
   "mimetype": "text/x-python",
   "name": "python",
   "nbconvert_exporter": "python",
   "pygments_lexer": "ipython3",
   "version": "3.8.20"
  }
 },
 "nbformat": 4,
 "nbformat_minor": 2
}
