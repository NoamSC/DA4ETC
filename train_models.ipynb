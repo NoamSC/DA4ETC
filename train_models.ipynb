{
 "cells": [
  {
   "cell_type": "code",
   "execution_count": 9,
   "metadata": {},
   "outputs": [],
   "source": [
    "from pathlib import Path\n",
    "import random\n",
    "import os\n",
    "import re\n",
    "\n",
    "import pandas as pd\n",
    "import numpy as np\n",
    "from tqdm import tqdm\n",
    "import torch\n",
    "import torch.nn as nn\n",
    "import torch.optim as optim\n",
    "import torch.nn.functional as F\n",
    "from torch.utils.data import random_split\n",
    "import matplotlib.pyplot as plt\n",
    "\n",
    "from simple_dataloader import create_dataloader"
   ]
  },
  {
   "cell_type": "code",
   "execution_count": 2,
   "metadata": {},
   "outputs": [],
   "source": [
    "def set_seed(seed):\n",
    "    \"\"\"\n",
    "    Sets the random seed for reproducibility.\n",
    "    Args:\n",
    "        seed (int): The seed value to set.\n",
    "    \"\"\"\n",
    "    random.seed(seed)\n",
    "    np.random.seed(seed)\n",
    "    torch.manual_seed(seed)\n",
    "    if torch.cuda.is_available():\n",
    "        torch.cuda.manual_seed(seed)\n",
    "        torch.cuda.manual_seed_all(seed)\n",
    "    torch.backends.cudnn.deterministic = True\n",
    "    torch.backends.cudnn.benchmark = False\n",
    "\n",
    "set_seed(42)"
   ]
  },
  {
   "cell_type": "code",
   "execution_count": 3,
   "metadata": {},
   "outputs": [
    {
     "name": "stdout",
     "output_type": "stream",
     "text": [
      "CUDA is available. Using GPU\n"
     ]
    }
   ],
   "source": [
    "if torch.cuda.is_available():\n",
    "    device = torch.device(\"cuda:1\")\n",
    "    print(\"CUDA is available. Using GPU\")\n",
    "else:\n",
    "    device = torch.device(\"cpu\")\n",
    "    print(\"CUDA is not available. Using CPU.\")"
   ]
  },
  {
   "cell_type": "markdown",
   "metadata": {},
   "source": [
    "## Data"
   ]
  },
  {
   "cell_type": "code",
   "execution_count": 4,
   "metadata": {
    "scrolled": true
   },
   "outputs": [],
   "source": [
    "data_path = Path('data/ben_bucket')\n",
    "pcaps = data_path.glob('**/*.pcap')\n",
    "pcap_paths = pd.Series(pcaps)"
   ]
  },
  {
   "cell_type": "code",
   "execution_count": 5,
   "metadata": {},
   "outputs": [],
   "source": [
    "def extract_pcap_info(path):\n",
    "    p = Path(path)\n",
    "    parts = p.parts\n",
    "    location = parts[3]  # 4th part (traffic/location/date...)\n",
    "    date_str = parts[4]  # 5th part is the date\n",
    "    app = parts[5]       # 6th part is the app\n",
    "    vpn_type = parts[6]   # 7th part is VPN/Non-VPN\n",
    "\n",
    "    date = pd.to_datetime(date_str, format='%Y%m%d_%H%M%S')\n",
    "    \n",
    "    return location, date, app, vpn_type\n",
    "\n",
    "# Apply the function to each path in the series\n",
    "df = pd.DataFrame(pcap_paths.apply(extract_pcap_info).tolist(), columns=['location', 'date', 'app', 'vpn_type'])\n",
    "df['pcap_path'] = pcap_paths"
   ]
  },
  {
   "cell_type": "code",
   "execution_count": 6,
   "metadata": {},
   "outputs": [],
   "source": [
    "# randomly sample\n",
    "df_huji = df[df.location == 'TLVunContainer1']\n",
    "df_huji = df_huji.sample(frac=1).reset_index(drop=True) #.sample(1000)\n",
    "\n",
    "# train-val split\n",
    "df_huji.sort_values(by='date')\n",
    "split_index = int(len(df_huji) * 0.7)\n",
    "\n",
    "# Split the data into train and test based on the temporal order\n",
    "df_huji_train = df_huji[:split_index]\n",
    "df_huji_val = df_huji[split_index:]\n",
    "\n",
    "train_pcap_paths = df_huji_train.pcap_path.astype(str)\n",
    "train_labels = df_huji_train.app\n",
    "\n",
    "val_pcap_paths = df_huji_val.pcap_path.astype(str)\n",
    "val_labels = df_huji_val.app"
   ]
  },
  {
   "cell_type": "code",
   "execution_count": 7,
   "metadata": {},
   "outputs": [],
   "source": [
    "label_types = np.unique(train_labels)"
   ]
  },
  {
   "cell_type": "code",
   "execution_count": 12,
   "metadata": {},
   "outputs": [
    {
     "name": "stderr",
     "output_type": "stream",
     "text": [
      "100%|██████████| 7/7 [00:01<00:00,  3.61it/s]\n",
      "100%|██████████| 3/3 [00:00<00:00,  3.48it/s]\n"
     ]
    }
   ],
   "source": [
    "# Create the dataloader\n",
    "train_loader = create_dataloader(\n",
    "    train_pcap_paths, \n",
    "    train_labels, \n",
    "    batch_size=8, \n",
    "    shuffle=True, \n",
    "    min_flow_length=100,\n",
    "    resolution=1500,\n",
    "    )\n",
    "\n",
    "val_loader = create_dataloader(\n",
    "    val_pcap_paths, \n",
    "    val_labels, \n",
    "    batch_size=8, \n",
    "    shuffle=True, \n",
    "    min_flow_length=100,\n",
    "    resolution=1500,\n",
    "    )"
   ]
  },
  {
   "cell_type": "code",
   "execution_count": 11,
   "metadata": {},
   "outputs": [
    {
     "name": "stdout",
     "output_type": "stream",
     "text": [
      "Processing Amazon...\n"
     ]
    },
    {
     "name": "stderr",
     "output_type": "stream",
     "text": [
      "100%|██████████| 100/100 [00:09<00:00, 10.22it/s]\n"
     ]
    },
    {
     "name": "stdout",
     "output_type": "stream",
     "text": [
      "Mean FlowPic saved for Amazon at mean_flowpics/Amazon_mean.png\n",
      "Processing Google Search...\n"
     ]
    },
    {
     "name": "stderr",
     "output_type": "stream",
     "text": [
      "100%|██████████| 100/100 [00:08<00:00, 12.23it/s]\n"
     ]
    },
    {
     "name": "stdout",
     "output_type": "stream",
     "text": [
      "Mean FlowPic saved for Google Search at mean_flowpics/Google Search_mean.png\n",
      "Processing Twitch...\n"
     ]
    },
    {
     "name": "stderr",
     "output_type": "stream",
     "text": [
      "100%|██████████| 100/100 [00:24<00:00,  4.09it/s]\n"
     ]
    },
    {
     "name": "stdout",
     "output_type": "stream",
     "text": [
      "Mean FlowPic saved for Twitch at mean_flowpics/Twitch_mean.png\n",
      "Processing Youtube...\n"
     ]
    },
    {
     "name": "stderr",
     "output_type": "stream",
     "text": [
      "100%|██████████| 100/100 [00:32<00:00,  3.05it/s]\n"
     ]
    },
    {
     "name": "stdout",
     "output_type": "stream",
     "text": [
      "Mean FlowPic saved for Youtube at mean_flowpics/Youtube_mean.png\n",
      "All mean flowpics have been saved.\n"
     ]
    }
   ],
   "source": [
    "# Dictionary to store averaged flowpics for each app\n",
    "mean_flowpics = {}\n",
    "\n",
    "for app_name, group in df_huji.groupby('app'):\n",
    "    print(f\"Processing {app_name}...\")\n",
    "    group = group.sample(100)  # Sample 100 flowpics per app\n",
    "    group_pcap_paths = group.pcap_path.astype(str)\n",
    "    group_labels = group.app\n",
    "    train_loader = create_dataloader(\n",
    "        group_pcap_paths, \n",
    "        group_labels, \n",
    "        batch_size=1000,  # Load all 100 flowpics in one batch\n",
    "        shuffle=False, \n",
    "        min_flow_length=100,\n",
    "        resolution=1500,\n",
    "    )\n",
    "    \n",
    "    # Get one batch of flowpics\n",
    "    for flowpics, labels in train_loader:\n",
    "        break  # Only load one batch\n",
    "\n",
    "    # Compute mean flowpic\n",
    "    mean_flowpic = torch.mean(flowpics, dim=0).numpy()  # Average across 100 samples\n",
    "\n",
    "    # Store the mean flowpic\n",
    "    mean_flowpics[app_name] = mean_flowpic\n",
    "\n",
    "    # Directory setup for saving images\n",
    "    mean_dir = Path('mean_flowpics')\n",
    "    mean_dir.mkdir(parents=True, exist_ok=True)\n",
    "\n",
    "    # Save the mean flowpic for each app as an image\n",
    "    plt.figure()\n",
    "    plt.title(f\"{app_name}: Mean FlowPic (1000 samples)\")\n",
    "    plt.pcolormesh(mean_flowpic, vmax=0.005, vmin=0, cmap='plasma')\n",
    "    plt.colorbar()\n",
    "    \n",
    "    mean_img_path = mean_dir / f\"{app_name}_mean.png\"\n",
    "    plt.savefig(mean_img_path)\n",
    "    plt.close()  # Close the plot to free memory\n",
    "    print(f\"Mean FlowPic saved for {app_name} at {mean_img_path}\")\n",
    "\n",
    "print(\"All mean flowpics have been saved.\")"
   ]
  },
  {
   "cell_type": "markdown",
   "metadata": {},
   "source": [
    "## Model"
   ]
  },
  {
   "cell_type": "markdown",
   "metadata": {},
   "source": [
    "- [X] split\n",
    "- [ ] train\n",
    "- [ ] train other domain\n",
    "- [ ] cross peprformance"
   ]
  },
  {
   "cell_type": "code",
   "execution_count": 23,
   "metadata": {},
   "outputs": [],
   "source": [
    "class ConfigurableCNN(nn.Module):\n",
    "    def __init__(self, params):\n",
    "        super(ConfigurableCNN, self).__init__()\n",
    "        self.params = params\n",
    "        \n",
    "        # Create convolutional layers\n",
    "        layers = []\n",
    "        in_channels = params['in_channels']\n",
    "        \n",
    "        for conv_layer in params['conv_layers']:\n",
    "            layers.append(\n",
    "                nn.Conv2d(in_channels=in_channels,\n",
    "                          out_channels=conv_layer['out_channels'],\n",
    "                          kernel_size=conv_layer['kernel_size'],\n",
    "                          stride=conv_layer['stride'],\n",
    "                          padding=conv_layer['padding'])\n",
    "            )\n",
    "            layers.append(nn.ReLU())\n",
    "            in_channels = conv_layer['out_channels']\n",
    "        \n",
    "        self.conv_layers = nn.Sequential(*layers)\n",
    "        self.pool = nn.MaxPool2d(kernel_size=params['pool_kernel_size'], stride=params['pool_stride'])\n",
    "\n",
    "        # Calculate flattened size after convolutions and pooling\n",
    "        flattened_size = self._get_flattened_size(params['image_size'])\n",
    "\n",
    "        # Fully connected layers\n",
    "        self.fc1 = nn.Linear(flattened_size, params['fc1_out_features'])\n",
    "        self.fc2 = nn.Linear(params['fc1_out_features'], params['num_classes'])\n",
    "        self.dropout = nn.Dropout(params['dropout_prob'])\n",
    "\n",
    "    def _get_flattened_size(self, input_size):\n",
    "        # Simulate passing a tensor through the network to calculate the size after conv layers\n",
    "        x = torch.randn(1, 1, input_size, input_size)  # Assuming single channel input for now\n",
    "        x = self.conv_layers(x)\n",
    "        x = self.pool(x)\n",
    "        return x.numel()\n",
    "\n",
    "    def forward(self, x):\n",
    "        x = self.conv_layers(x)\n",
    "        x = self.pool(x)\n",
    "        x = x.view(x.size(0), -1)  # Flatten\n",
    "        x = F.relu(self.fc1(x))\n",
    "        x = self.dropout(x)\n",
    "        x = self.fc2(x)\n",
    "        return x\n"
   ]
  },
  {
   "cell_type": "code",
   "execution_count": 49,
   "metadata": {},
   "outputs": [],
   "source": [
    "# Example parameters\n",
    "params = {\n",
    "    'num_classes': len(label_types),   # Number of classes for classification\n",
    "    'image_size': 1500,  # Input image size is 1500x1500\n",
    "    'conv_layers': [\n",
    "        {'out_channels': 1, 'kernel_size': 3, 'stride': 2, 'padding': 1 },\n",
    "        {'out_channels': 1, 'kernel_size': 3, 'stride': 2, 'padding': 1 },\n",
    "        {'out_channels': 1, 'kernel_size': 3, 'stride': 2, 'padding': 1 },\n",
    "        {'out_channels': 1, 'kernel_size': 3, 'stride': 2, 'padding': 1 },\n",
    "        {'out_channels': 1, 'kernel_size': 3, 'stride': 2, 'padding': 1 },\n",
    "        {'out_channels': 1, 'kernel_size': 3, 'stride': 2, 'padding': 1 },\n",
    "        {'out_channels': 1, 'kernel_size': 3, 'stride': 2, 'padding': 1 },\n",
    "    ],\n",
    "    'in_channels': 1,\n",
    "    'pool_kernel_size': 2,\n",
    "    'pool_stride': 2,\n",
    "    'fc1_out_features': 16,      # Number of neurons in the first fully connected layer\n",
    "    'dropout_prob': 0           # Dropout probability\n",
    "}"
   ]
  },
  {
   "cell_type": "code",
   "execution_count": 50,
   "metadata": {},
   "outputs": [],
   "source": [
    "# Model initialization\n",
    "model = ConfigurableCNN(params)\n",
    "model = model.to(device)"
   ]
  },
  {
   "cell_type": "code",
   "execution_count": 51,
   "metadata": {},
   "outputs": [],
   "source": [
    "# Optimizer and loss function\n",
    "learning_rate = 1e-3\n",
    "optimizer = optim.Adam(model.parameters(), lr=learning_rate)\n",
    "criterion = nn.CrossEntropyLoss()  # For multi-class classification\n",
    "num_epochs = 7"
   ]
  },
  {
   "cell_type": "code",
   "execution_count": 41,
   "metadata": {},
   "outputs": [
    {
     "name": "stderr",
     "output_type": "stream",
     "text": [
      "                                                                   \r"
     ]
    },
    {
     "ename": "KeyboardInterrupt",
     "evalue": "",
     "output_type": "error",
     "traceback": [
      "\u001b[0;31m---------------------------------------------------------------------------\u001b[0m",
      "\u001b[0;31mKeyboardInterrupt\u001b[0m                         Traceback (most recent call last)",
      "Input \u001b[0;32mIn [41]\u001b[0m, in \u001b[0;36m<cell line: 6>\u001b[0;34m()\u001b[0m\n\u001b[1;32m     12\u001b[0m \u001b[38;5;66;03m# Training loop with progress bar\u001b[39;00m\n\u001b[1;32m     13\u001b[0m \u001b[38;5;28;01mwith\u001b[39;00m tqdm(train_loader, desc\u001b[38;5;241m=\u001b[39m\u001b[38;5;124mf\u001b[39m\u001b[38;5;124m\"\u001b[39m\u001b[38;5;124mEpoch \u001b[39m\u001b[38;5;132;01m{\u001b[39;00mepoch\u001b[38;5;241m+\u001b[39m\u001b[38;5;241m1\u001b[39m\u001b[38;5;132;01m}\u001b[39;00m\u001b[38;5;124m/\u001b[39m\u001b[38;5;132;01m{\u001b[39;00mnum_epochs\u001b[38;5;132;01m}\u001b[39;00m\u001b[38;5;124m (Train)\u001b[39m\u001b[38;5;124m\"\u001b[39m, leave\u001b[38;5;241m=\u001b[39m\u001b[38;5;28;01mFalse\u001b[39;00m) \u001b[38;5;28;01mas\u001b[39;00m pbar:\n\u001b[0;32m---> 14\u001b[0m     \u001b[38;5;28;01mfor\u001b[39;00m i, (flowpics, labels) \u001b[38;5;129;01min\u001b[39;00m \u001b[38;5;28menumerate\u001b[39m(pbar):\n\u001b[1;32m     15\u001b[0m         \u001b[38;5;66;03m# Move inputs and labels to the device (GPU or CPU)\u001b[39;00m\n\u001b[1;32m     16\u001b[0m         flowpics \u001b[38;5;241m=\u001b[39m flowpics\u001b[38;5;241m.\u001b[39munsqueeze(\u001b[38;5;241m1\u001b[39m)  \u001b[38;5;66;03m# add a channels dimension\u001b[39;00m\n\u001b[1;32m     17\u001b[0m         flowpics, labels \u001b[38;5;241m=\u001b[39m flowpics\u001b[38;5;241m.\u001b[39mto(device), labels\u001b[38;5;241m.\u001b[39mto(device)\u001b[38;5;241m.\u001b[39mlong()\n",
      "File \u001b[0;32m/home/anatbr/students/noamshakedc/env/anaconda3/envs/ml2/lib/python3.8/site-packages/tqdm/std.py:1181\u001b[0m, in \u001b[0;36mtqdm.__iter__\u001b[0;34m(self)\u001b[0m\n\u001b[1;32m   1178\u001b[0m time \u001b[38;5;241m=\u001b[39m \u001b[38;5;28mself\u001b[39m\u001b[38;5;241m.\u001b[39m_time\n\u001b[1;32m   1180\u001b[0m \u001b[38;5;28;01mtry\u001b[39;00m:\n\u001b[0;32m-> 1181\u001b[0m     \u001b[38;5;28;01mfor\u001b[39;00m obj \u001b[38;5;129;01min\u001b[39;00m iterable:\n\u001b[1;32m   1182\u001b[0m         \u001b[38;5;28;01myield\u001b[39;00m obj\n\u001b[1;32m   1183\u001b[0m         \u001b[38;5;66;03m# Update and possibly print the progressbar.\u001b[39;00m\n\u001b[1;32m   1184\u001b[0m         \u001b[38;5;66;03m# Note: does not call self.update(1) for speed optimisation.\u001b[39;00m\n",
      "File \u001b[0;32m/home/anatbr/students/noamshakedc/env/anaconda3/envs/ml2/lib/python3.8/site-packages/torch/utils/data/dataloader.py:630\u001b[0m, in \u001b[0;36m_BaseDataLoaderIter.__next__\u001b[0;34m(self)\u001b[0m\n\u001b[1;32m    627\u001b[0m \u001b[38;5;28;01mif\u001b[39;00m \u001b[38;5;28mself\u001b[39m\u001b[38;5;241m.\u001b[39m_sampler_iter \u001b[38;5;129;01mis\u001b[39;00m \u001b[38;5;28;01mNone\u001b[39;00m:\n\u001b[1;32m    628\u001b[0m     \u001b[38;5;66;03m# TODO(https://github.com/pytorch/pytorch/issues/76750)\u001b[39;00m\n\u001b[1;32m    629\u001b[0m     \u001b[38;5;28mself\u001b[39m\u001b[38;5;241m.\u001b[39m_reset()  \u001b[38;5;66;03m# type: ignore[call-arg]\u001b[39;00m\n\u001b[0;32m--> 630\u001b[0m data \u001b[38;5;241m=\u001b[39m \u001b[38;5;28;43mself\u001b[39;49m\u001b[38;5;241;43m.\u001b[39;49m\u001b[43m_next_data\u001b[49m\u001b[43m(\u001b[49m\u001b[43m)\u001b[49m\n\u001b[1;32m    631\u001b[0m \u001b[38;5;28mself\u001b[39m\u001b[38;5;241m.\u001b[39m_num_yielded \u001b[38;5;241m+\u001b[39m\u001b[38;5;241m=\u001b[39m \u001b[38;5;241m1\u001b[39m\n\u001b[1;32m    632\u001b[0m \u001b[38;5;28;01mif\u001b[39;00m \u001b[38;5;28mself\u001b[39m\u001b[38;5;241m.\u001b[39m_dataset_kind \u001b[38;5;241m==\u001b[39m _DatasetKind\u001b[38;5;241m.\u001b[39mIterable \u001b[38;5;129;01mand\u001b[39;00m \\\n\u001b[1;32m    633\u001b[0m         \u001b[38;5;28mself\u001b[39m\u001b[38;5;241m.\u001b[39m_IterableDataset_len_called \u001b[38;5;129;01mis\u001b[39;00m \u001b[38;5;129;01mnot\u001b[39;00m \u001b[38;5;28;01mNone\u001b[39;00m \u001b[38;5;129;01mand\u001b[39;00m \\\n\u001b[1;32m    634\u001b[0m         \u001b[38;5;28mself\u001b[39m\u001b[38;5;241m.\u001b[39m_num_yielded \u001b[38;5;241m>\u001b[39m \u001b[38;5;28mself\u001b[39m\u001b[38;5;241m.\u001b[39m_IterableDataset_len_called:\n",
      "File \u001b[0;32m/home/anatbr/students/noamshakedc/env/anaconda3/envs/ml2/lib/python3.8/site-packages/torch/utils/data/dataloader.py:673\u001b[0m, in \u001b[0;36m_SingleProcessDataLoaderIter._next_data\u001b[0;34m(self)\u001b[0m\n\u001b[1;32m    671\u001b[0m \u001b[38;5;28;01mdef\u001b[39;00m \u001b[38;5;21m_next_data\u001b[39m(\u001b[38;5;28mself\u001b[39m):\n\u001b[1;32m    672\u001b[0m     index \u001b[38;5;241m=\u001b[39m \u001b[38;5;28mself\u001b[39m\u001b[38;5;241m.\u001b[39m_next_index()  \u001b[38;5;66;03m# may raise StopIteration\u001b[39;00m\n\u001b[0;32m--> 673\u001b[0m     data \u001b[38;5;241m=\u001b[39m \u001b[38;5;28;43mself\u001b[39;49m\u001b[38;5;241;43m.\u001b[39;49m\u001b[43m_dataset_fetcher\u001b[49m\u001b[38;5;241;43m.\u001b[39;49m\u001b[43mfetch\u001b[49m\u001b[43m(\u001b[49m\u001b[43mindex\u001b[49m\u001b[43m)\u001b[49m  \u001b[38;5;66;03m# may raise StopIteration\u001b[39;00m\n\u001b[1;32m    674\u001b[0m     \u001b[38;5;28;01mif\u001b[39;00m \u001b[38;5;28mself\u001b[39m\u001b[38;5;241m.\u001b[39m_pin_memory:\n\u001b[1;32m    675\u001b[0m         data \u001b[38;5;241m=\u001b[39m _utils\u001b[38;5;241m.\u001b[39mpin_memory\u001b[38;5;241m.\u001b[39mpin_memory(data, \u001b[38;5;28mself\u001b[39m\u001b[38;5;241m.\u001b[39m_pin_memory_device)\n",
      "File \u001b[0;32m/home/anatbr/students/noamshakedc/env/anaconda3/envs/ml2/lib/python3.8/site-packages/torch/utils/data/_utils/fetch.py:52\u001b[0m, in \u001b[0;36m_MapDatasetFetcher.fetch\u001b[0;34m(self, possibly_batched_index)\u001b[0m\n\u001b[1;32m     50\u001b[0m         data \u001b[38;5;241m=\u001b[39m \u001b[38;5;28mself\u001b[39m\u001b[38;5;241m.\u001b[39mdataset\u001b[38;5;241m.\u001b[39m__getitems__(possibly_batched_index)\n\u001b[1;32m     51\u001b[0m     \u001b[38;5;28;01melse\u001b[39;00m:\n\u001b[0;32m---> 52\u001b[0m         data \u001b[38;5;241m=\u001b[39m [\u001b[38;5;28mself\u001b[39m\u001b[38;5;241m.\u001b[39mdataset[idx] \u001b[38;5;28;01mfor\u001b[39;00m idx \u001b[38;5;129;01min\u001b[39;00m possibly_batched_index]\n\u001b[1;32m     53\u001b[0m \u001b[38;5;28;01melse\u001b[39;00m:\n\u001b[1;32m     54\u001b[0m     data \u001b[38;5;241m=\u001b[39m \u001b[38;5;28mself\u001b[39m\u001b[38;5;241m.\u001b[39mdataset[possibly_batched_index]\n",
      "File \u001b[0;32m/home/anatbr/students/noamshakedc/env/anaconda3/envs/ml2/lib/python3.8/site-packages/torch/utils/data/_utils/fetch.py:52\u001b[0m, in \u001b[0;36m<listcomp>\u001b[0;34m(.0)\u001b[0m\n\u001b[1;32m     50\u001b[0m         data \u001b[38;5;241m=\u001b[39m \u001b[38;5;28mself\u001b[39m\u001b[38;5;241m.\u001b[39mdataset\u001b[38;5;241m.\u001b[39m__getitems__(possibly_batched_index)\n\u001b[1;32m     51\u001b[0m     \u001b[38;5;28;01melse\u001b[39;00m:\n\u001b[0;32m---> 52\u001b[0m         data \u001b[38;5;241m=\u001b[39m [\u001b[38;5;28;43mself\u001b[39;49m\u001b[38;5;241;43m.\u001b[39;49m\u001b[43mdataset\u001b[49m\u001b[43m[\u001b[49m\u001b[43midx\u001b[49m\u001b[43m]\u001b[49m \u001b[38;5;28;01mfor\u001b[39;00m idx \u001b[38;5;129;01min\u001b[39;00m possibly_batched_index]\n\u001b[1;32m     53\u001b[0m \u001b[38;5;28;01melse\u001b[39;00m:\n\u001b[1;32m     54\u001b[0m     data \u001b[38;5;241m=\u001b[39m \u001b[38;5;28mself\u001b[39m\u001b[38;5;241m.\u001b[39mdataset[possibly_batched_index]\n",
      "File \u001b[0;32m/home/anatbr/students/noamshakedc/da4etc/simple_dataloader.py:134\u001b[0m, in \u001b[0;36mPcapDataset.__getitem__\u001b[0;34m(self, idx)\u001b[0m\n\u001b[1;32m    133\u001b[0m \u001b[38;5;28;01mdef\u001b[39;00m \u001b[38;5;21m__getitem__\u001b[39m(\u001b[38;5;28mself\u001b[39m, idx):\n\u001b[0;32m--> 134\u001b[0m     flowpic \u001b[38;5;241m=\u001b[39m \u001b[43mnp\u001b[49m\u001b[38;5;241;43m.\u001b[39;49m\u001b[43marray\u001b[49m\u001b[43m(\u001b[49m\u001b[38;5;28;43mself\u001b[39;49m\u001b[38;5;241;43m.\u001b[39;49m\u001b[43mXs\u001b[49m\u001b[43m[\u001b[49m\u001b[43midx\u001b[49m\u001b[43m]\u001b[49m\u001b[43m,\u001b[49m\u001b[43m \u001b[49m\u001b[43mdtype\u001b[49m\u001b[38;5;241;43m=\u001b[39;49m\u001b[43mnp\u001b[49m\u001b[38;5;241;43m.\u001b[39;49m\u001b[43mfloat32\u001b[49m\u001b[43m)\u001b[49m\n\u001b[1;32m    135\u001b[0m     label \u001b[38;5;241m=\u001b[39m np\u001b[38;5;241m.\u001b[39marray(\u001b[38;5;28mself\u001b[39m\u001b[38;5;241m.\u001b[39mys[idx], dtype\u001b[38;5;241m=\u001b[39mnp\u001b[38;5;241m.\u001b[39mfloat32)\n\u001b[1;32m    137\u001b[0m     \u001b[38;5;28;01mreturn\u001b[39;00m torch\u001b[38;5;241m.\u001b[39mTensor(flowpic), torch\u001b[38;5;241m.\u001b[39mTensor(label)\n",
      "\u001b[0;31mKeyboardInterrupt\u001b[0m: "
     ]
    }
   ],
   "source": [
    "train_batch_losses = []\n",
    "train_batch_accuracies = []\n",
    "val_batch_losses = []\n",
    "val_batch_accuracies = []\n",
    "\n",
    "for epoch in range(num_epochs):\n",
    "    model.train()  # Set the model to training mode\n",
    "    running_train_loss = 0.0\n",
    "    correct_train_predictions = 0\n",
    "    total_train_samples = 0\n",
    "    \n",
    "    # Training loop with progress bar\n",
    "    with tqdm(train_loader, desc=f\"Epoch {epoch+1}/{num_epochs} (Train)\", leave=False) as pbar:\n",
    "        for i, (flowpics, labels) in enumerate(pbar):\n",
    "            # Move inputs and labels to the device (GPU or CPU)\n",
    "            flowpics = flowpics.unsqueeze(1)  # add a channels dimension\n",
    "            flowpics, labels = flowpics.to(device), labels.to(device).long()\n",
    "\n",
    "            # Zero the gradients\n",
    "            optimizer.zero_grad()\n",
    "\n",
    "            # Forward pass\n",
    "            outputs = model(flowpics)\n",
    "            loss = criterion(outputs, labels)\n",
    "\n",
    "            # Backward pass and optimization\n",
    "            loss.backward()\n",
    "            optimizer.step()\n",
    "\n",
    "            # Accumulate training loss\n",
    "            running_train_loss += loss.item() * flowpics.size(0)\n",
    "            total_train_samples += flowpics.size(0)\n",
    "\n",
    "            # Calculate training accuracy\n",
    "            _, predicted = torch.max(outputs, 1)\n",
    "            correct_train_predictions += (predicted == labels).sum().item()\n",
    "\n",
    "            # Store batch-level training metrics\n",
    "            batch_loss = loss.item()\n",
    "            batch_accuracy = correct_train_predictions / total_train_samples * 100\n",
    "            train_batch_losses.append(batch_loss)\n",
    "            train_batch_accuracies.append(batch_accuracy)\n",
    "\n",
    "    # Validation loop with progress bar\n",
    "    model.eval()  # Set the model to evaluation mode\n",
    "    running_val_loss = 0.0\n",
    "    correct_val_predictions = 0\n",
    "    total_val_samples = 0\n",
    "    \n",
    "    with torch.no_grad():  # Disable gradient computation for validation\n",
    "        with tqdm(val_loader, desc=f\"Epoch {epoch+1}/{num_epochs} (Val)\", leave=False) as pbar:\n",
    "            for i, (flowpics, labels) in enumerate(pbar):\n",
    "                # Move inputs and labels to the device (GPU or CPU)\n",
    "                flowpics = flowpics.unsqueeze(1)  # add a channels dimension\n",
    "                flowpics, labels = flowpics.to(device), labels.to(device).long()\n",
    "\n",
    "                # Forward pass\n",
    "                outputs = model(flowpics)\n",
    "                loss = criterion(outputs, labels)\n",
    "\n",
    "                # Accumulate validation loss\n",
    "                running_val_loss += loss.item() * flowpics.size(0)\n",
    "                total_val_samples += flowpics.size(0)\n",
    "\n",
    "                # Calculate validation accuracy\n",
    "                _, predicted = torch.max(outputs, 1)\n",
    "                correct_val_predictions += (predicted == labels).sum().item()\n",
    "\n",
    "                # Store batch-level validation metrics\n",
    "                batch_val_loss = loss.item()\n",
    "                batch_val_accuracy = correct_val_predictions / total_val_samples * 100\n",
    "                val_batch_losses.append(batch_val_loss)\n",
    "                val_batch_accuracies.append(batch_val_accuracy)\n",
    "\n",
    "    # Print statistics for the epoch\n",
    "    print(f\"Epoch [{epoch+1}/{num_epochs}]\")\n",
    "    print(f\"  Last Training Batch - Loss: {batch_loss:.4f}, Accuracy: {batch_accuracy:.2f}%\")\n",
    "    print(f\"  Last Validation Batch - Loss: {batch_val_loss:.4f}, Accuracy: {batch_val_accuracy:.2f}%\")"
   ]
  },
  {
   "cell_type": "code",
   "execution_count": 33,
   "metadata": {},
   "outputs": [
    {
     "data": {
      "image/png": "[encoded data removed]",
      "text/plain": [
       "<Figure size 1000x500 with 2 Axes>"
      ]
     },
     "metadata": {},
     "output_type": "display_data"
    }
   ],
   "source": [
    "from matplotlib import pyplot as plt\n",
    "\n",
    "plt.figure(figsize=(10, 5))\n",
    "plt.subplot(1, 2, 1)\n",
    "plt.plot(train_batch_losses, label='Training Loss per Batch')\n",
    "plt.plot(val_batch_losses, label='Validation Loss per Batch')\n",
    "plt.xlabel('Batch Count')\n",
    "plt.ylabel('Loss')\n",
    "plt.title('Training and Validation Loss per Batch')\n",
    "plt.legend()\n",
    "\n",
    "# Plotting batch-level training and validation accuracy\n",
    "plt.subplot(1, 2, 2)\n",
    "plt.plot(train_batch_accuracies, label='Training Accuracy per Batch')\n",
    "plt.plot(val_batch_accuracies, label='Validation Accuracy per Batch')\n",
    "plt.xlabel('Batch Count')\n",
    "plt.ylabel('Accuracy (%)')\n",
    "plt.title('Training and Validation Accuracy per Batch')\n",
    "plt.legend()\n",
    "\n",
    "plt.show()"
   ]
  },
  {
   "cell_type": "code",
   "execution_count": 52,
   "metadata": {},
   "outputs": [
    {
     "name": "stderr",
     "output_type": "stream",
     "text": [
      "                                                                    \r"
     ]
    },
    {
     "name": "stdout",
     "output_type": "stream",
     "text": [
      "Epoch [1/7]\n",
      "  Training - Mean Loss: 1.2608, Mean Accuracy: 44.47%\n",
      "  Validation - Mean Loss: 1.6602, Mean Accuracy: 13.66%\n"
     ]
    },
    {
     "name": "stderr",
     "output_type": "stream",
     "text": [
      "                                                                    \r"
     ]
    },
    {
     "name": "stdout",
     "output_type": "stream",
     "text": [
      "Epoch [2/7]\n",
      "  Training - Mean Loss: 1.2429, Mean Accuracy: 46.66%\n",
      "  Validation - Mean Loss: 1.5963, Mean Accuracy: 13.66%\n"
     ]
    },
    {
     "name": "stderr",
     "output_type": "stream",
     "text": [
      "                                                                    \r"
     ]
    },
    {
     "ename": "KeyboardInterrupt",
     "evalue": "",
     "output_type": "error",
     "traceback": [
      "\u001b[0;31m---------------------------------------------------------------------------\u001b[0m",
      "\u001b[0;31mKeyboardInterrupt\u001b[0m                         Traceback (most recent call last)",
      "Input \u001b[0;32mIn [52]\u001b[0m, in \u001b[0;36m<cell line: 8>\u001b[0;34m()\u001b[0m\n\u001b[1;32m     30\u001b[0m optimizer\u001b[38;5;241m.\u001b[39mstep()\n\u001b[1;32m     32\u001b[0m \u001b[38;5;66;03m# Accumulate training loss and accuracy\u001b[39;00m\n\u001b[0;32m---> 33\u001b[0m running_train_loss \u001b[38;5;241m+\u001b[39m\u001b[38;5;241m=\u001b[39m \u001b[43mloss\u001b[49m\u001b[38;5;241;43m.\u001b[39;49m\u001b[43mitem\u001b[49m\u001b[43m(\u001b[49m\u001b[43m)\u001b[49m \u001b[38;5;241m*\u001b[39m flowpics\u001b[38;5;241m.\u001b[39msize(\u001b[38;5;241m0\u001b[39m)\n\u001b[1;32m     34\u001b[0m total_train_samples \u001b[38;5;241m+\u001b[39m\u001b[38;5;241m=\u001b[39m flowpics\u001b[38;5;241m.\u001b[39msize(\u001b[38;5;241m0\u001b[39m)\n\u001b[1;32m     35\u001b[0m _, predicted \u001b[38;5;241m=\u001b[39m torch\u001b[38;5;241m.\u001b[39mmax(outputs, \u001b[38;5;241m1\u001b[39m)\n",
      "\u001b[0;31mKeyboardInterrupt\u001b[0m: "
     ]
    }
   ],
   "source": [
    "import matplotlib.pyplot as plt\n",
    "\n",
    "train_batch_losses = []\n",
    "train_batch_accuracies = []\n",
    "val_batch_losses = []\n",
    "val_batch_accuracies = []\n",
    "\n",
    "for epoch in range(num_epochs):\n",
    "    model.train()  # Set the model to training mode\n",
    "    running_train_loss = 0.0\n",
    "    correct_train_predictions = 0\n",
    "    total_train_samples = 0\n",
    "\n",
    "    # Training loop with progress bar\n",
    "    with tqdm(train_loader, desc=f\"Epoch {epoch+1}/{num_epochs} (Train)\", leave=False) as pbar:\n",
    "        for i, (flowpics, labels) in enumerate(pbar):\n",
    "            # Move inputs and labels to the device (GPU or CPU)\n",
    "            flowpics = flowpics.unsqueeze(1)  # add a channels dimension\n",
    "            flowpics, labels = flowpics.to(device), labels.to(device).long()\n",
    "\n",
    "            # Zero the gradients\n",
    "            optimizer.zero_grad()\n",
    "\n",
    "            # Forward pass\n",
    "            outputs = model(flowpics)\n",
    "            loss = criterion(outputs, labels)\n",
    "\n",
    "            # Backward pass and optimization\n",
    "            loss.backward()\n",
    "            optimizer.step()\n",
    "\n",
    "            # Accumulate training loss and accuracy\n",
    "            running_train_loss += loss.item() * flowpics.size(0)\n",
    "            total_train_samples += flowpics.size(0)\n",
    "            _, predicted = torch.max(outputs, 1)\n",
    "            correct_train_predictions += (predicted == labels).sum().item()\n",
    "\n",
    "            # Store batch-level training metrics\n",
    "            train_batch_losses.append(loss.item())\n",
    "            train_batch_accuracies.append((correct_train_predictions / total_train_samples) * 100)\n",
    "\n",
    "    # Calculate epoch-level training loss and accuracy\n",
    "    mean_train_loss = running_train_loss / total_train_samples\n",
    "    mean_train_accuracy = (correct_train_predictions / total_train_samples) * 100\n",
    "\n",
    "    # Validation loop with progress bar\n",
    "    model.eval()  # Set the model to evaluation mode\n",
    "    running_val_loss = 0.0\n",
    "    correct_val_predictions = 0\n",
    "    total_val_samples = 0\n",
    "\n",
    "    with torch.no_grad():  # Disable gradient computation for validation\n",
    "        with tqdm(val_loader, desc=f\"Epoch {epoch+1}/{num_epochs} (Val)\", leave=False) as pbar:\n",
    "            for i, (flowpics, labels) in enumerate(pbar):\n",
    "                # Move inputs and labels to the device (GPU or CPU)\n",
    "                flowpics = flowpics.unsqueeze(1)  # add a channels dimension\n",
    "                flowpics, labels = flowpics.to(device), labels.to(device).long()\n",
    "\n",
    "                # Forward pass\n",
    "                outputs = model(flowpics)\n",
    "                loss = criterion(outputs, labels)\n",
    "\n",
    "                # Accumulate validation loss and accuracy\n",
    "                running_val_loss += loss.item() * flowpics.size(0)\n",
    "                total_val_samples += flowpics.size(0)\n",
    "                _, predicted = torch.max(outputs, 1)\n",
    "                correct_val_predictions += (predicted == labels).sum().item()\n",
    "\n",
    "                # Store batch-level validation metrics\n",
    "                val_batch_losses.append(loss.item())\n",
    "                val_batch_accuracies.append((correct_val_predictions / total_val_samples) * 100)\n",
    "\n",
    "    # Calculate epoch-level validation loss and accuracy\n",
    "    mean_val_loss = running_val_loss / total_val_samples\n",
    "    mean_val_accuracy = (correct_val_predictions / total_val_samples) * 100\n",
    "\n",
    "    # Print mean statistics for the epoch\n",
    "    print(f\"Epoch [{epoch+1}/{num_epochs}]\")\n",
    "    print(f\"  Training - Mean Loss: {mean_train_loss:.4f}, Mean Accuracy: {mean_train_accuracy:.2f}%\")\n",
    "    print(f\"  Validation - Mean Loss: {mean_val_loss:.4f}, Mean Accuracy: {mean_val_accuracy:.2f}%\")\n",
    "\n",
    "    # Plot and save the figure after each epoch\n",
    "    plt.figure(figsize=(10, 5))\n",
    "    \n",
    "    # Plot training and validation losses per batch\n",
    "    plt.subplot(1, 2, 1)\n",
    "    plt.plot(train_batch_losses, label='Training Loss per Batch')\n",
    "    plt.plot(val_batch_losses, label='Validation Loss per Batch')\n",
    "    plt.xlabel('Batch Count')\n",
    "    plt.ylabel('Loss')\n",
    "    plt.title('Training and Validation Loss per Batch')\n",
    "    plt.legend()\n",
    "\n",
    "    # Plot training and validation accuracies per batch\n",
    "    plt.subplot(1, 2, 2)\n",
    "    plt.plot(train_batch_accuracies, label='Training Accuracy per Batch')\n",
    "    plt.plot(val_batch_accuracies, label='Validation Accuracy per Batch')\n",
    "    plt.xlabel('Batch Count')\n",
    "    plt.ylabel('Accuracy (%)')\n",
    "    plt.title('Training and Validation Accuracy per Batch')\n",
    "    plt.legend()\n",
    "\n",
    "    plt.suptitle(f'Epoch {epoch+1}/{num_epochs}')\n",
    "    plt.savefig(f'training_progress_epoch_{epoch+1}.png')\n",
    "    plt.close()\n"
   ]
  },
  {
   "cell_type": "code",
   "execution_count": null,
   "metadata": {},
   "outputs": [],
   "source": []
  }
 ],
 "metadata": {
  "kernelspec": {
   "display_name": "ml2",
   "language": "python",
   "name": "python3"
  },
  "language_info": {
   "codemirror_mode": {
    "name": "ipython",
    "version": 3
   },
   "file_extension": ".py",
   "mimetype": "text/x-python",
   "name": "python",
   "nbconvert_exporter": "python",
   "pygments_lexer": "ipython3",
   "version": "3.8.20"
  }
 },
 "nbformat": 4,
 "nbformat_minor": 4
}
